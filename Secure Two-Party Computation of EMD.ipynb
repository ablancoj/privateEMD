{
 "cells": [
  {
   "cell_type": "code",
   "execution_count": 3,
   "metadata": {
    "ExecuteTime": {
     "end_time": "2020-05-02T21:06:09.441030Z",
     "start_time": "2020-05-02T21:06:09.437032Z"
    }
   },
   "outputs": [],
   "source": [
    "import numpy as np\n",
    "import matplotlib.pyplot as plt"
   ]
  },
  {
   "cell_type": "code",
   "execution_count": 4,
   "metadata": {
    "ExecuteTime": {
     "end_time": "2020-05-02T21:06:09.464007Z",
     "start_time": "2020-05-02T21:06:09.443026Z"
    }
   },
   "outputs": [
    {
     "data": {
      "text/plain": [
       "array([5, 2, 7, 4, 1, 1, 1, 5, 4, 8])"
      ]
     },
     "metadata": {},
     "output_type": "display_data"
    },
    {
     "data": {
      "text/plain": [
       "array([4, 4, 1, 7, 8, 9, 8, 1, 6, 6])"
      ]
     },
     "metadata": {},
     "output_type": "display_data"
    }
   ],
   "source": [
    "ind = np.arange(10)\n",
    "A = np.random.randint(low=1, high=10, size=10)\n",
    "B = np.random.randint(low=1, high=10, size=10)\n",
    "# X = np.arange(1,11)\n",
    "# Y = np.arange(1,11)\n",
    "diff = [abs(a-b) for a,b in zip(A,B)]\n",
    "display(A)\n",
    "display(B)"
   ]
  },
  {
   "cell_type": "code",
   "execution_count": 5,
   "metadata": {
    "ExecuteTime": {
     "end_time": "2020-05-02T21:06:09.907598Z",
     "start_time": "2020-05-02T21:06:09.466005Z"
    }
   },
   "outputs": [
    {
     "data": {
      "image/png": "[encoded data removed]",
      "text/plain": [
       "<Figure size 1440x360 with 2 Axes>"
      ]
     },
     "metadata": {
      "needs_background": "light"
     },
     "output_type": "display_data"
    }
   ],
   "source": [
    "plt.figure(figsize=(20,5))\n",
    "\n",
    "plt.subplot(121)\n",
    "plt.bar(ind, A)\n",
    "plt.ylim(0,10)\n",
    "plt.title('A')\n",
    "\n",
    "plt.subplot(122)\n",
    "plt.bar(ind, B)\n",
    "plt.ylim(0,10)\n",
    "plt.title('B')\n",
    "\n",
    "plt.tight_layout()\n",
    "plt.show()"
   ]
  },
  {
   "cell_type": "markdown",
   "metadata": {},
   "source": [
    "### Earth Mover's Distance\n",
    "When $A$ and $B$ are two one-dimensional arrays of bins, (*e.g.* histograms), the Earth Mover's Distance can be computed as:\n",
    "1. $EMD_0 = 0$\n",
    "2. $EMD_{i+1} = A_i + EMD_i - B_i$\n",
    "3. $Total = \\sum_{i=0}^{n} \\left| EMD_i \\right|$"
   ]
  },
  {
   "cell_type": "code",
   "execution_count": 6,
   "metadata": {
    "ExecuteTime": {
     "end_time": "2020-05-02T21:06:09.915591Z",
     "start_time": "2020-05-02T21:06:09.909596Z"
    }
   },
   "outputs": [
    {
     "name": "stdout",
     "output_type": "stream",
     "text": [
      "EMD(A,B) = 97\n"
     ]
    }
   ],
   "source": [
    "# EMD\n",
    "EMD = [A[0]-B[0]]\n",
    "for i in range(1,len(A)):\n",
    "    EMD.append(A[i]-B[i]+EMD[-1])\n",
    "print(f'EMD(A,B) = {sum(map(abs,EMD))}')"
   ]
  },
  {
   "cell_type": "code",
   "execution_count": 7,
   "metadata": {
    "ExecuteTime": {
     "end_time": "2020-05-02T21:06:09.924583Z",
     "start_time": "2020-05-02T21:06:09.917590Z"
    }
   },
   "outputs": [
    {
     "name": "stdout",
     "output_type": "stream",
     "text": [
      "EMD(A,B) = 97\n"
     ]
    }
   ],
   "source": [
    "EMD = [0]*(len(A)+1)\n",
    "for i in range(len(A)):\n",
    "    EMD[i] = A[i]-B[i]+EMD[i-1]\n",
    "print(f'EMD(A,B) = {sum(map(abs,EMD))}')"
   ]
  },
  {
   "cell_type": "markdown",
   "metadata": {},
   "source": [
    "Unwrapping the EMD algorithm:\n",
    "* $EMD_n = A_{n-1} - B_{n-1} + EMD_{n-1}$\n",
    "* $EMD_n = A_{n-1} - B_{n-1} + (A_{n-2} - B_{n-2} + EMD_{n-2})$\n",
    "* $EMD_n = A_{n-1} - B_{n-1} + (A_{n-2} - B_{n-2} + (A_{n-3} - B_{n-3} + EMD_{n-3}))$\n",
    "* $\\dots$\n",
    "\n",
    "Rearranging the factors:\n",
    "* $EMD_n = (A_{n-1} + A_{n-2} + A_{n-3} + \\cdots + A_0) - (B_{n-1} + B_{n-2} + B_{n-3} + \\cdots + B_0)$\n",
    "* $EMD_n = \\sum_{j=0}^{n-1} A_j - \\sum_{j=0}^{n-1} B_j$\n",
    "\n",
    "If $A'$ and $B'$ are the cumulative sums of $A$ and $B$, respectively, the EMD can be computed as the $\\ell_1$ norm of $A'$ and $B'$.\n",
    "\n",
    "* $A' = \\left\\{ \\sum_{j=0}^{i} A_j : 0 \\le i \\le n-1 \\right\\}$\n",
    "\n",
    "* $Total = EMD_0 + \\sum_{i=1}^{n} \\left| \\sum_{j=0}^{i-1} A_j - \\sum_{j=0}^{i-1} B_j \\right| = \\sum_{i=1}^{n} \\left| \\sum_{j=0}^{i-1} A_j - \\sum_{j=0}^{i-1} B_j \\right| = \\sum_{i=0}^{n-1} \\left| A'_i - B'_i \\right| = \\lVert A'-B' \\rVert_1 $"
   ]
  },
  {
   "cell_type": "code",
   "execution_count": 8,
   "metadata": {
    "ExecuteTime": {
     "end_time": "2020-05-02T21:06:09.932576Z",
     "start_time": "2020-05-02T21:06:09.926580Z"
    }
   },
   "outputs": [
    {
     "name": "stdout",
     "output_type": "stream",
     "text": [
      "EMD(A,B) = 97\n"
     ]
    }
   ],
   "source": [
    "cA = np.cumsum(A)\n",
    "cB = np.cumsum(B)\n",
    "total = sum(abs(ca-cb) for ca,cb in zip(cA,cB))\n",
    "print(f'EMD(A,B) = {total}')"
   ]
  },
  {
   "cell_type": "code",
   "execution_count": 9,
   "metadata": {
    "ExecuteTime": {
     "end_time": "2020-05-02T21:06:10.314224Z",
     "start_time": "2020-05-02T21:06:09.933575Z"
    }
   },
   "outputs": [
    {
     "data": {
      "image/png": "[encoded data removed]",
      "text/plain": [
       "<Figure size 1440x360 with 2 Axes>"
      ]
     },
     "metadata": {
      "needs_background": "light"
     },
     "output_type": "display_data"
    }
   ],
   "source": [
    "plt.figure(figsize=(20,5))\n",
    "\n",
    "plt.subplot(121)\n",
    "plt.bar(ind, cA)\n",
    "plt.bar(ind, A)\n",
    "plt.ylim(0,60)\n",
    "\n",
    "plt.subplot(122)\n",
    "plt.bar(ind, cB)\n",
    "plt.bar(ind, B)\n",
    "plt.ylim(0,60)\n",
    "\n",
    "plt.tight_layout()\n",
    "plt.show()"
   ]
  },
  {
   "cell_type": "markdown",
   "metadata": {},
   "source": [
    "### Private Set Intersection Cardinality\n",
    "\n",
    "$C$ and $S$ are two parties. $C$ privately holds histogram $A = \\{a_1, \\dots, a_{|A|}\\}$ and $S$ privately holds histogram $B = \\{b_1, \\dots, b_{|B|}\\}$. $Enc$ is the Paillier cryptosystem, which is additively homomorphic and has the following properties:\n",
    "1. $Enc(x) \\cdot Enc(y) = Enc(x+y)$\n",
    "2. $Enc(x)^k = Enc(kx)$\n",
    "\n",
    "$C$ and $S$ can securely compute the cardinality of the intersection of $A$ and $B$ as follows:\n",
    "\n",
    "1. $C$ computes $P(x) = \\sum_{i=0}^{|A|} p_ix^i = \\prod_{j=1}^{|A|} (x-a_i)$\n",
    "2. $C$ sends $Enc(p_0), \\dots, Enc(p_{|A|})$ to $S$.\n",
    "3. $S$ picks a random element $r_j \\in \\mathbb{Z}_n$ for every $1 \\le j \\le |B|$. $S$ computes $Enc(r_j \\cdot p(b_j) + m)$ for $1 \\le j \\le |B|$. Then $S$ sends these ciphertexts to $C$.\n",
    "4. $C$ decrypts the received ciphertexts. The result of each decryption is $m$ or a random element.\n",
    "5. The number of $m$ received equals $|A \\cap B|$.\n",
    "\n",
    "#### Compute the $\\ell_1$ norm of two histograms\n",
    "\n",
    "As shown above, the EMD can be computed as the $\\ell_1$ norm of $A'$ and $B'$. Given sets $A$ and $B$, the $\\ell_1$ norm is defined as follows:\n",
    "\n",
    "$\\ell_1(A, B) = \\sum_{i=1}^{|A|} |a_i - b_i| = \\sum_{i=1}^{|A|} max(a_i,b_i) - \\sum_{i=1}^{|A|} min(a_i,b_i)$.\n",
    "\n",
    "Next, we show how to securely compute the $\\ell_1$ norm given two sets and a secure protocol to compute the cardinality of the intersections of two sets.\n",
    "\n",
    "Given $A$ and $B$, define $X = \\left\\{(i,j) : a_i > 0 \\text{ and } 1 \\le j \\le a_i \\right\\}$ and $Y = \\left\\{(i,j) : b_i > 0 \\text{ and } 1 \\le j \\le b_i \\right\\}$.\n",
    "\n",
    "Compute $|X \\cap Y|$ as detailed in the protocol above.\n",
    "\n",
    "$|X \\cap Y| = \\left| \\left\\{(i,j) : a_i > 0 \\text{ and } b_i > 0 \\text{ and } 1 \\le j \\le min(a_i,b_i) \\right\\} \\right| = \\sum_{i=1}^{|A|} min(a_i,b_i)$. \n",
    "\n",
    "$|X \\cup Y| = \\left| \\left\\{(i,j) : a_i > 0 \\text{ and } b_i > 0 \\text{ and } 1 \\le j \\le max(a_i,b_i) \\right\\} \\right| = \\sum_{i=1}^{|A|} max(a_i,b_i)$. \n",
    "\n",
    "Therefore, $\\ell_1(A, B) = |X \\cup Y| - |X \\cap Y|$\n",
    "\n",
    "By definition $|X \\cup Y| = |X| + |Y| - |X \\cap Y|$\n",
    "\n",
    "$|X \\cup Y| - |X \\cap Y| = |X| + |Y| - 2|X \\cap Y| = \\sum_{i=1}^{|A|} max(a_i,b_i) - \\sum_{i=1}^{|A|} min(a_i,b_i) = \\sum_{i=1}^{|A|} |a_i - b_i| = norm_{\\ell_1}(A,B)$\n",
    "\n",
    "If $A'$ and $B'$ are the cumulative sums of two histograms $A$ and $B$, then the result of $norm_{\\ell_1}(A',B')$ is the EMD of $A$ and $B$."
   ]
  },
  {
   "cell_type": "code",
   "execution_count": 10,
   "metadata": {
    "ExecuteTime": {
     "end_time": "2020-05-02T21:06:10.331208Z",
     "start_time": "2020-05-02T21:06:10.316223Z"
    }
   },
   "outputs": [
    {
     "name": "stdout",
     "output_type": "stream",
     "text": [
      "Cardinality of the intersection of X and Y = 25\n",
      "Sum of component-wise minimums of A and B = 25\n",
      "Cardinality of the union of X and Y = 67\n",
      "Sum of component-wise maximums of A and B = 67\n",
      "EMD(A,B) = 97\n"
     ]
    }
   ],
   "source": [
    "# Expansion of A into X\n",
    "X = [[[i+1,j] for j in range(1,a+1)] for i,a in enumerate(A)]\n",
    "X = [item for sublist in X for item in sublist]\n",
    "\n",
    "# Expansion of B into Y\n",
    "Y = [[[i+1,j] for j in range(1,b+1)] for i,b in enumerate(B)]\n",
    "Y = [item for sublist in Y for item in sublist]\n",
    "\n",
    "# Intersection of X and Y\n",
    "XandY = list(x for x in X if x in Y)\n",
    "print(f'Cardinality of the intersection of X and Y = {len(XandY)}')\n",
    "\n",
    "s = sum(min(a,b) for a,b in zip(A,B))\n",
    "print(f'Sum of component-wise minimums of A and B = {s}')\n",
    "\n",
    "# Union of X and Y\n",
    "XorY = X + list(y for y in Y if y not in X)\n",
    "print(f'Cardinality of the union of X and Y = {len(XorY)}')\n",
    "\n",
    "s = sum(max(a,b) for a,b in zip(A,B))\n",
    "print(f'Sum of component-wise maximums of A and B = {s}')\n",
    "\n",
    "# Expansion of cA into cX\n",
    "cX = [[[i+1,j] for j in range(1,a+1)] for i,a in enumerate(cA)]\n",
    "cX = [item for sublist in cX for item in sublist]\n",
    "\n",
    "# Expansion of cB into cY\n",
    "cY = [[[i+1,j] for j in range(1,b+1)] for i,b in enumerate(cB)]\n",
    "cY = [item for sublist in cY for item in sublist]\n",
    "\n",
    "# Intersection of cX and cY\n",
    "cXandcY = list(cx for cx in cX if cx in cY)\n",
    "\n",
    "emd = len(cX) + len(cY) - 2*len(cXandcY)\n",
    "print(f'EMD(A,B) = {emd}')"
   ]
  },
  {
   "cell_type": "code",
   "execution_count": 11,
   "metadata": {
    "ExecuteTime": {
     "end_time": "2020-05-02T21:06:10.935652Z",
     "start_time": "2020-05-02T21:06:10.334207Z"
    }
   },
   "outputs": [
    {
     "data": {
      "image/png": "[encoded data removed]",
      "text/plain": [
       "<Figure size 1440x720 with 4 Axes>"
      ]
     },
     "metadata": {
      "needs_background": "light"
     },
     "output_type": "display_data"
    }
   ],
   "source": [
    "plt.figure(figsize=(20,10))\n",
    "\n",
    "plt.subplot(221)\n",
    "plt.scatter(list(x[0] for x in X), list(x[1] for x in X))\n",
    "plt.ylim(0,10)\n",
    "plt.title('X')\n",
    "\n",
    "plt.subplot(222)\n",
    "plt.scatter(list(y[0] for y in Y), list(y[1] for y in Y))\n",
    "plt.ylim(0,10)\n",
    "plt.title('Y')\n",
    "\n",
    "plt.subplot(223)\n",
    "plt.scatter(list(xandy[0] for xandy in XandY), list(xandy[1] for xandy in XandY))\n",
    "plt.ylim(0,10)\n",
    "plt.title('Intersection of X and Y')\n",
    "\n",
    "plt.subplot(224)\n",
    "plt.scatter(list(xory[0] for xory in XorY), list(xory[1] for xory in XorY))\n",
    "plt.ylim(0,10)\n",
    "plt.title('Union of X and Y')\n",
    "\n",
    "plt.tight_layout()\n",
    "plt.show()"
   ]
  },
  {
   "cell_type": "code",
   "execution_count": null,
   "metadata": {},
   "outputs": [],
   "source": []
  }
 ],
 "metadata": {
  "kernelspec": {
   "display_name": "Python 3",
   "language": "python",
   "name": "python3"
  },
  "language_info": {
   "codemirror_mode": {
    "name": "ipython",
    "version": 3
   },
   "file_extension": ".py",
   "mimetype": "text/x-python",
   "name": "python",
   "nbconvert_exporter": "python",
   "pygments_lexer": "ipython3",
   "version": "3.8.2"
  },
  "toc": {
   "base_numbering": 1,
   "nav_menu": {},
   "number_sections": true,
   "sideBar": true,
   "skip_h1_title": false,
   "title_cell": "Table of Contents",
   "title_sidebar": "Contents",
   "toc_cell": false,
   "toc_position": {},
   "toc_section_display": true,
   "toc_window_display": false
  },
  "varInspector": {
   "cols": {
    "lenName": 16,
    "lenType": 16,
    "lenVar": 40
   },
   "kernels_config": {
    "python": {
     "delete_cmd_postfix": "",
     "delete_cmd_prefix": "del ",
     "library": "var_list.py",
     "varRefreshCmd": "print(var_dic_list())"
    },
    "r": {
     "delete_cmd_postfix": ") ",
     "delete_cmd_prefix": "rm(",
     "library": "var_list.r",
     "varRefreshCmd": "cat(var_dic_list()) "
    }
   },
   "types_to_exclude": [
    "module",
    "function",
    "builtin_function_or_method",
    "instance",
    "_Feature"
   ],
   "window_display": false
  }
 },
 "nbformat": 4,
 "nbformat_minor": 4
}
